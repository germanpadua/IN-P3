{
 "cells": [
  {
   "cell_type": "markdown",
   "id": "3203fe95-6f06-4d71-b268-408916cee003",
   "metadata": {
    "jupyter": {
     "outputs_hidden": false
    }
   },
   "source": [
    "# Notebook de mejora\n",
    "\n",
    "Este notebook es un ejemplo cómo se puede mejorar los hiperparámetros de un algoritmo, y medir la importancia de atributos https://www.kaggle.com/c/house-prices-advanced-regression-techniques/ de la práctica 3 de Inteligencia de Negocio. \n",
    "\n",
    "Incluyo el código del notebook anterior, no se explicarán.\n",
    "\n",
    "Es un ejemplo que es claramente mejorable, se deja a el/la estudiante el mejorarlo para obtener mejores resultados."
   ]
  },
  {
   "cell_type": "markdown",
   "id": "cc9fac94-fac6-46a9-baaa-575de9006f82",
   "metadata": {
    "jupyter": {
     "outputs_hidden": false
    }
   },
   "source": [
    "## Código del Notebook anterior\n",
    "\n",
    "Ahora incluyo todo el código del otro Notebook para poder ejecutarlo fácilmente (muy mejorable)."
   ]
  },
  {
   "cell_type": "code",
   "execution_count": 1,
   "id": "8662ff9c-fb53-4417-ace0-5bad69be7909",
   "metadata": {
    "jupyter": {
     "outputs_hidden": false
    }
   },
   "outputs": [],
   "source": [
    "import pandas as pd\n",
    "import numpy as np\n",
    "\n",
    "train = pd.read_csv(\"train.csv\", na_values=\"NaN\") # Definimos na_values para identificar bien los valores perdidos\n",
    "\n",
    "\n",
    "if 'Id' in train:\n",
    "    train.drop('Id', axis=1, inplace=True)\n",
    "\n",
    "from sklearn.preprocessing import LabelEncoder, OrdinalEncoder\n",
    "\n",
    "test = pd.read_csv(\"test.csv\", na_values=\"NaN\")\n",
    "test_ids = test.Id\n",
    "test = test.drop('Id', axis=1)\n",
    "\n",
    "input_all = pd.concat([train.drop('SalePrice', axis=1), test])\n",
    "\n",
    "col_cat = list(input_all.select_dtypes(exclude=np.number).columns)\n",
    "\n",
    "from sklearn.impute import SimpleImputer\n",
    "\n",
    "# Valores categóricos por el más frecuente\n",
    "imputer_cat = SimpleImputer(strategy=\"most_frequent\")\n",
    "imputer_cat.fit(input_all[col_cat])\n",
    "train[col_cat] = imputer_cat.transform(train[col_cat])\n",
    "test[col_cat] = imputer_cat.transform(test[col_cat])\n",
    "\n",
    "# Valores numéricos por la media\n",
    "col_num = list(train.select_dtypes(include=np.number).columns)\n",
    "col_num.remove('SalePrice')\n",
    "imputer_num = SimpleImputer(strategy=\"median\")\n",
    "imputer_num.fit(input_all[col_num])\n",
    "train[col_num] = imputer_num.transform(train[col_num])\n",
    "test[col_num] = imputer_num.transform(test[col_num])\n",
    "\n",
    "from sklearn.preprocessing import LabelEncoder\n",
    "labelers = {}\n",
    "test_l = test.copy()\n",
    "train_l = train.copy()\n",
    "\n",
    "for col in col_cat:\n",
    "    labelers[col] = LabelEncoder().fit(input_all[col])\n",
    "    test_l[col] = labelers[col].transform(test[col])\n",
    "    train_l[col] = labelers[col].transform(train[col])\n",
    "\n",
    "\n",
    "y_train = train_l.SalePrice\n",
    "X_train = train_l.drop('SalePrice', axis=1)\n",
    "\n",
    "if 'Id' in test_l:\n",
    "    test_l.drop('Id', axis=1, inplace=True)\n",
    "\n",
    "X_test = test_l"
   ]
  },
  {
   "cell_type": "markdown",
   "id": "29ec246f-dc8d-49a3-8a4b-a7bfb749abd5",
   "metadata": {
    "jupyter": {
     "outputs_hidden": false
    }
   },
   "source": [
    "## Aplico modelo\n",
    "\n",
    "Voy a aplicar un modelo más completo, un Random Forest."
   ]
  },
  {
   "cell_type": "code",
   "execution_count": 2,
   "id": "82b4289b-8026-414b-8b72-9ff29d91bbea",
   "metadata": {
    "jupyter": {
     "outputs_hidden": false
    }
   },
   "outputs": [
    {
     "name": "stdout",
     "output_type": "stream",
     "text": [
      "[-0.02016876 -0.01855472 -0.02264973 -0.02306619 -0.02449701]\n",
      "-0.021787282053097233\n"
     ]
    }
   ],
   "source": [
    "from sklearn.ensemble import RandomForestRegressor\n",
    "from sklearn.model_selection import cross_val_score, KFold\n",
    "cv = KFold(5, shuffle=True, random_state=124345)\n",
    "model = RandomForestRegressor(criterion='squared_error', max_depth=10)\n",
    "values = cross_val_score(model, X_train, y_train, scoring='neg_mean_squared_log_error', cv=cv)\n",
    "print(values)\n",
    "print(values.mean())"
   ]
  },
  {
   "cell_type": "markdown",
   "id": "694cf8ec-d300-4184-a4f8-cd11f7f7f50d",
   "metadata": {},
   "source": [
    "# Visualizando la Importancia\n",
    "\n",
    "Vamos a visualizar la importancia de los parámetros. En scikit-learn muchos modelos la calculan, así que es fácil.\n",
    "\n"
   ]
  },
  {
   "cell_type": "markdown",
   "id": "11626a66-166c-4811-8d3c-d14017a4b918",
   "metadata": {},
   "source": [
    "Primero entreno con el conjunto de entrenamiento (cross_val_score deja el modelo sin aprender)."
   ]
  },
  {
   "cell_type": "code",
   "execution_count": 3,
   "id": "558a7eb9-b0bf-4e1b-95c8-91d50d28e3f0",
   "metadata": {},
   "outputs": [
    {
     "data": {
      "text/html": [
       "<style>#sk-container-id-1 {color: black;}#sk-container-id-1 pre{padding: 0;}#sk-container-id-1 div.sk-toggleable {background-color: white;}#sk-container-id-1 label.sk-toggleable__label {cursor: pointer;display: block;width: 100%;margin-bottom: 0;padding: 0.3em;box-sizing: border-box;text-align: center;}#sk-container-id-1 label.sk-toggleable__label-arrow:before {content: \"▸\";float: left;margin-right: 0.25em;color: #696969;}#sk-container-id-1 label.sk-toggleable__label-arrow:hover:before {color: black;}#sk-container-id-1 div.sk-estimator:hover label.sk-toggleable__label-arrow:before {color: black;}#sk-container-id-1 div.sk-toggleable__content {max-height: 0;max-width: 0;overflow: hidden;text-align: left;background-color: #f0f8ff;}#sk-container-id-1 div.sk-toggleable__content pre {margin: 0.2em;color: black;border-radius: 0.25em;background-color: #f0f8ff;}#sk-container-id-1 input.sk-toggleable__control:checked~div.sk-toggleable__content {max-height: 200px;max-width: 100%;overflow: auto;}#sk-container-id-1 input.sk-toggleable__control:checked~label.sk-toggleable__label-arrow:before {content: \"▾\";}#sk-container-id-1 div.sk-estimator input.sk-toggleable__control:checked~label.sk-toggleable__label {background-color: #d4ebff;}#sk-container-id-1 div.sk-label input.sk-toggleable__control:checked~label.sk-toggleable__label {background-color: #d4ebff;}#sk-container-id-1 input.sk-hidden--visually {border: 0;clip: rect(1px 1px 1px 1px);clip: rect(1px, 1px, 1px, 1px);height: 1px;margin: -1px;overflow: hidden;padding: 0;position: absolute;width: 1px;}#sk-container-id-1 div.sk-estimator {font-family: monospace;background-color: #f0f8ff;border: 1px dotted black;border-radius: 0.25em;box-sizing: border-box;margin-bottom: 0.5em;}#sk-container-id-1 div.sk-estimator:hover {background-color: #d4ebff;}#sk-container-id-1 div.sk-parallel-item::after {content: \"\";width: 100%;border-bottom: 1px solid gray;flex-grow: 1;}#sk-container-id-1 div.sk-label:hover label.sk-toggleable__label {background-color: #d4ebff;}#sk-container-id-1 div.sk-serial::before {content: \"\";position: absolute;border-left: 1px solid gray;box-sizing: border-box;top: 0;bottom: 0;left: 50%;z-index: 0;}#sk-container-id-1 div.sk-serial {display: flex;flex-direction: column;align-items: center;background-color: white;padding-right: 0.2em;padding-left: 0.2em;position: relative;}#sk-container-id-1 div.sk-item {position: relative;z-index: 1;}#sk-container-id-1 div.sk-parallel {display: flex;align-items: stretch;justify-content: center;background-color: white;position: relative;}#sk-container-id-1 div.sk-item::before, #sk-container-id-1 div.sk-parallel-item::before {content: \"\";position: absolute;border-left: 1px solid gray;box-sizing: border-box;top: 0;bottom: 0;left: 50%;z-index: -1;}#sk-container-id-1 div.sk-parallel-item {display: flex;flex-direction: column;z-index: 1;position: relative;background-color: white;}#sk-container-id-1 div.sk-parallel-item:first-child::after {align-self: flex-end;width: 50%;}#sk-container-id-1 div.sk-parallel-item:last-child::after {align-self: flex-start;width: 50%;}#sk-container-id-1 div.sk-parallel-item:only-child::after {width: 0;}#sk-container-id-1 div.sk-dashed-wrapped {border: 1px dashed gray;margin: 0 0.4em 0.5em 0.4em;box-sizing: border-box;padding-bottom: 0.4em;background-color: white;}#sk-container-id-1 div.sk-label label {font-family: monospace;font-weight: bold;display: inline-block;line-height: 1.2em;}#sk-container-id-1 div.sk-label-container {text-align: center;}#sk-container-id-1 div.sk-container {/* jupyter's `normalize.less` sets `[hidden] { display: none; }` but bootstrap.min.css set `[hidden] { display: none !important; }` so we also need the `!important` here to be able to override the default hidden behavior on the sphinx rendered scikit-learn.org. See: https://github.com/scikit-learn/scikit-learn/issues/21755 */display: inline-block !important;position: relative;}#sk-container-id-1 div.sk-text-repr-fallback {display: none;}</style><div id=\"sk-container-id-1\" class=\"sk-top-container\"><div class=\"sk-text-repr-fallback\"><pre>RandomForestRegressor(max_depth=10)</pre><b>In a Jupyter environment, please rerun this cell to show the HTML representation or trust the notebook. <br />On GitHub, the HTML representation is unable to render, please try loading this page with nbviewer.org.</b></div><div class=\"sk-container\" hidden><div class=\"sk-item\"><div class=\"sk-estimator sk-toggleable\"><input class=\"sk-toggleable__control sk-hidden--visually\" id=\"sk-estimator-id-1\" type=\"checkbox\" checked><label for=\"sk-estimator-id-1\" class=\"sk-toggleable__label sk-toggleable__label-arrow\">RandomForestRegressor</label><div class=\"sk-toggleable__content\"><pre>RandomForestRegressor(max_depth=10)</pre></div></div></div></div></div>"
      ],
      "text/plain": [
       "RandomForestRegressor(max_depth=10)"
      ]
     },
     "execution_count": 3,
     "metadata": {},
     "output_type": "execute_result"
    }
   ],
   "source": [
    "model.fit(X_train, y_train)"
   ]
  },
  {
   "cell_type": "markdown",
   "id": "eee3dcbd-5888-44e0-a62e-c7450bff5c0b",
   "metadata": {},
   "source": [
    "Ahora muestro la importancia. en model.feature_importances_ aparece la importancia, y en model.feature_names_in sus nombres."
   ]
  },
  {
   "cell_type": "code",
   "execution_count": 4,
   "id": "633c74a7-edc9-4539-ba72-7d6b18bbb42b",
   "metadata": {},
   "outputs": [],
   "source": [
    "df_imp = pd.DataFrame({'name': model.feature_names_in_, 'importance': model.feature_importances_})"
   ]
  },
  {
   "cell_type": "code",
   "execution_count": 5,
   "id": "85727bd7-dbb2-4c93-bd23-85f1b7d0de68",
   "metadata": {},
   "outputs": [],
   "source": [
    "import seaborn as sns"
   ]
  },
  {
   "cell_type": "code",
   "execution_count": 6,
   "id": "b86c4529-5c79-4017-b580-2671af8e91f7",
   "metadata": {},
   "outputs": [
    {
     "data": {
      "text/plain": [
       "<seaborn.axisgrid.FacetGrid at 0x20cd2cdbb50>"
      ]
     },
     "execution_count": 6,
     "metadata": {},
     "output_type": "execute_result"
    },
    {
     "data": {
      "image/png": "[encoded data removed]",
      "text/plain": [
       "<Figure size 360x360 with 1 Axes>"
      ]
     },
     "metadata": {
      "needs_background": "light"
     },
     "output_type": "display_data"
    }
   ],
   "source": [
    "sns.catplot(data=df_imp, x='name', y='importance', kind='bar')"
   ]
  },
  {
   "cell_type": "markdown",
   "id": "8b0b1225-1ae9-4914-9b5a-6b54ccd9d072",
   "metadata": {},
   "source": [
    "No se vé bien, vamos a ver las N primeras."
   ]
  },
  {
   "cell_type": "code",
   "execution_count": 7,
   "id": "9504db9e-c8e1-4886-9ac9-60612b5dabfc",
   "metadata": {},
   "outputs": [],
   "source": [
    "N_features = 10"
   ]
  },
  {
   "cell_type": "markdown",
   "id": "a489b86a-e949-42dc-97b4-ce6bce9e1bc7",
   "metadata": {},
   "source": [
    "Obtengo los índices para que estén ordenados."
   ]
  },
  {
   "cell_type": "code",
   "execution_count": 8,
   "id": "0c17a790-0273-41de-a284-9e4382eda383",
   "metadata": {},
   "outputs": [],
   "source": [
    "ind_sort = np.argsort(model.feature_importances_)"
   ]
  },
  {
   "cell_type": "code",
   "execution_count": 9,
   "id": "eb14f347-667c-4847-8722-806c26e4fa75",
   "metadata": {},
   "outputs": [
    {
     "data": {
      "text/plain": [
       "array([ 8, 73,  4, 38, 74, 63, 71, 44, 72, 62, 13,  5, 41, 47, 68, 14, 30,\n",
       "       70, 64, 21, 27, 54, 28, 51, 34, 77, 39, 56, 10, 12, 15, 67, 35, 69,\n",
       "       46, 49, 20,  9,  0, 23, 76, 24,  1, 50, 78,  7, 31, 22,  6, 32, 55,\n",
       "       52, 40, 26, 57, 75, 17, 66, 65, 36, 29, 58, 59, 48,  2, 25, 19, 11,\n",
       "       53, 18,  3, 61, 60, 42, 33, 43, 37, 45, 16], dtype=int64)"
      ]
     },
     "execution_count": 9,
     "metadata": {},
     "output_type": "execute_result"
    }
   ],
   "source": [
    "ind_sort"
   ]
  },
  {
   "cell_type": "code",
   "execution_count": 10,
   "id": "52224206-aad9-430c-ac67-e014f05b83a1",
   "metadata": {},
   "outputs": [
    {
     "data": {
      "text/plain": [
       "array([0.00000000e+00, 2.62915465e-06, 1.26507252e-05, 5.43831171e-05,\n",
       "       5.61597962e-05, 7.85614710e-05, 8.03186095e-05, 8.55995470e-05,\n",
       "       1.05787205e-04, 1.10115662e-04, 1.11752578e-04, 1.50981477e-04,\n",
       "       1.54483185e-04, 1.61773518e-04, 1.75513224e-04, 2.55170385e-04,\n",
       "       2.55447628e-04, 3.03903663e-04, 3.17025213e-04, 3.27993874e-04,\n",
       "       3.54149790e-04, 3.76269711e-04, 3.92597518e-04, 4.39071431e-04,\n",
       "       4.84332941e-04, 5.38703097e-04, 5.72581369e-04, 5.79980802e-04,\n",
       "       5.82987544e-04, 6.00423832e-04, 6.13419776e-04, 6.15756100e-04,\n",
       "       6.59590132e-04, 6.94232846e-04, 7.76037131e-04, 8.58791037e-04,\n",
       "       9.01977654e-04, 1.13612057e-03, 1.14802426e-03, 1.14951490e-03,\n",
       "       1.17178503e-03, 1.28025429e-03, 1.50390284e-03, 1.60151722e-03,\n",
       "       1.64013487e-03, 1.64100485e-03, 1.72490615e-03, 1.84911274e-03,\n",
       "       1.93497189e-03, 1.94958608e-03, 2.40515903e-03, 2.57998316e-03,\n",
       "       3.36390539e-03, 3.41611424e-03, 3.51609007e-03, 3.83862213e-03,\n",
       "       3.90723581e-03, 4.11827764e-03, 4.14174593e-03, 4.14807015e-03,\n",
       "       4.33185211e-03, 4.58726666e-03, 4.73406072e-03, 5.29925052e-03,\n",
       "       5.45794999e-03, 5.60216383e-03, 6.56355240e-03, 6.91537586e-03,\n",
       "       8.05589254e-03, 9.06611422e-03, 1.18271953e-02, 1.76167763e-02,\n",
       "       1.98412508e-02, 2.33075149e-02, 3.09320856e-02, 3.20672783e-02,\n",
       "       3.71098949e-02, 1.07579485e-01, 5.91097848e-01])"
      ]
     },
     "execution_count": 10,
     "metadata": {},
     "output_type": "execute_result"
    }
   ],
   "source": [
    "model.feature_importances_[ind_sort]"
   ]
  },
  {
   "cell_type": "markdown",
   "id": "173a5eeb-02d5-4416-8615-41d40f2a320b",
   "metadata": {},
   "source": [
    "Me interesa invertir el orden"
   ]
  },
  {
   "cell_type": "code",
   "execution_count": 11,
   "id": "e5e0b5b4-5750-4412-ac38-57832ce43841",
   "metadata": {},
   "outputs": [],
   "source": [
    "ind_sort = ind_sort[::-1]"
   ]
  },
  {
   "cell_type": "code",
   "execution_count": 12,
   "id": "662f4b64-61f3-423a-9dc0-4f4810d833fd",
   "metadata": {},
   "outputs": [
    {
     "data": {
      "text/plain": [
       "array([5.91097848e-01, 1.07579485e-01, 3.71098949e-02, 3.20672783e-02,\n",
       "       3.09320856e-02, 2.33075149e-02, 1.98412508e-02, 1.76167763e-02,\n",
       "       1.18271953e-02, 9.06611422e-03, 8.05589254e-03, 6.91537586e-03,\n",
       "       6.56355240e-03, 5.60216383e-03, 5.45794999e-03, 5.29925052e-03,\n",
       "       4.73406072e-03, 4.58726666e-03, 4.33185211e-03, 4.14807015e-03,\n",
       "       4.14174593e-03, 4.11827764e-03, 3.90723581e-03, 3.83862213e-03,\n",
       "       3.51609007e-03, 3.41611424e-03, 3.36390539e-03, 2.57998316e-03,\n",
       "       2.40515903e-03, 1.94958608e-03, 1.93497189e-03, 1.84911274e-03,\n",
       "       1.72490615e-03, 1.64100485e-03, 1.64013487e-03, 1.60151722e-03,\n",
       "       1.50390284e-03, 1.28025429e-03, 1.17178503e-03, 1.14951490e-03,\n",
       "       1.14802426e-03, 1.13612057e-03, 9.01977654e-04, 8.58791037e-04,\n",
       "       7.76037131e-04, 6.94232846e-04, 6.59590132e-04, 6.15756100e-04,\n",
       "       6.13419776e-04, 6.00423832e-04, 5.82987544e-04, 5.79980802e-04,\n",
       "       5.72581369e-04, 5.38703097e-04, 4.84332941e-04, 4.39071431e-04,\n",
       "       3.92597518e-04, 3.76269711e-04, 3.54149790e-04, 3.27993874e-04,\n",
       "       3.17025213e-04, 3.03903663e-04, 2.55447628e-04, 2.55170385e-04,\n",
       "       1.75513224e-04, 1.61773518e-04, 1.54483185e-04, 1.50981477e-04,\n",
       "       1.11752578e-04, 1.10115662e-04, 1.05787205e-04, 8.55995470e-05,\n",
       "       8.03186095e-05, 7.85614710e-05, 5.61597962e-05, 5.43831171e-05,\n",
       "       1.26507252e-05, 2.62915465e-06, 0.00000000e+00])"
      ]
     },
     "execution_count": 12,
     "metadata": {},
     "output_type": "execute_result"
    }
   ],
   "source": [
    "model.feature_importances_[ind_sort]"
   ]
  },
  {
   "cell_type": "markdown",
   "id": "9705b810-5281-4ac3-b385-80873bc7918d",
   "metadata": {},
   "source": [
    "Ahora escojo solo los primeros N."
   ]
  },
  {
   "cell_type": "code",
   "execution_count": 13,
   "id": "bd820059-fc41-4012-b356-6dad09f5dd2c",
   "metadata": {},
   "outputs": [],
   "source": [
    "ind_sort = ind_sort[:N_features]"
   ]
  },
  {
   "cell_type": "code",
   "execution_count": 14,
   "id": "79a17e95-fe9a-453c-b62e-346400adfec5",
   "metadata": {},
   "outputs": [
    {
     "data": {
      "text/plain": [
       "<seaborn.axisgrid.FacetGrid at 0x20cd2c39040>"
      ]
     },
     "execution_count": 14,
     "metadata": {},
     "output_type": "execute_result"
    },
    {
     "data": {
      "image/png": "[encoded data removed]",
      "text/plain": [
       "<Figure size 720x360 with 1 Axes>"
      ]
     },
     "metadata": {
      "needs_background": "light"
     },
     "output_type": "display_data"
    }
   ],
   "source": [
    "df_imp2 = pd.DataFrame({'name': model.feature_names_in_[ind_sort], 'importance': model.feature_importances_[ind_sort]})\n",
    "g = sns.catplot(data=df_imp2, x='name', y='importance', kind='bar', aspect=2)\n",
    "g.set(xlabel='Atributo', ylabel='Importancia', yscale='log')"
   ]
  },
  {
   "cell_type": "markdown",
   "id": "fb38ae38-5caf-478e-8595-6999b113430c",
   "metadata": {},
   "source": [
    "# Aplicando tuning automático\n",
    "\n",
    "Vamos a aplicar un GridSearchCV para mejorar dos parámetros del RF:\n",
    "\n",
    "- max_depth: de 7 a 15.\n",
    "- criterion: squared_error (hay otros absolute_error o friedman_mse pero no aplico por temas de tiempo ahora mismo)."
   ]
  },
  {
   "cell_type": "code",
   "execution_count": 15,
   "id": "557321c5-f6ec-424b-8a46-dfe22e352b65",
   "metadata": {},
   "outputs": [],
   "source": [
    "from sklearn.model_selection import GridSearchCV"
   ]
  },
  {
   "cell_type": "code",
   "execution_count": 19,
   "id": "7c1824e7-e989-4adc-8e7f-c91ecf6bd433",
   "metadata": {},
   "outputs": [],
   "source": [
    "param_grid = { \n",
    "    'max_depth' : [7, 10, 15],\n",
    "    'criterion' :['squared_error']#, 'absolute_error', 'friedman_mse']\n",
    "}"
   ]
  },
  {
   "cell_type": "markdown",
   "id": "21e6a64d-0f44-4278-8b7a-b4530cf3aab7",
   "metadata": {},
   "source": [
    "Se puede ver que se pueden asignar distintos valores, él va a probar con GridSearchCV todas las combinaciones. Puede mirar la documentación y otras posibles opciones en https://scikit-learn.org/stable/modules/classes.html#module-sklearn.model_selection"
   ]
  },
  {
   "cell_type": "markdown",
   "id": "10169638-54ee-405a-8a57-098a212a562d",
   "metadata": {},
   "source": [
    "Ahora creamos un modelo que englobe al anterior, y en éste cuando haga el fit probará la mejor combinación."
   ]
  },
  {
   "cell_type": "code",
   "execution_count": 20,
   "id": "db1d5c1a-9d88-4a63-b3ce-5ef61fd59bb7",
   "metadata": {},
   "outputs": [],
   "source": [
    "tuned_model = GridSearchCV(model, param_grid=param_grid, scoring='neg_mean_squared_log_error')"
   ]
  },
  {
   "cell_type": "markdown",
   "id": "ab415773-e20f-414c-bf07-cd07b26c2d39",
   "metadata": {},
   "source": [
    "Medimos de nuevo."
   ]
  },
  {
   "cell_type": "code",
   "execution_count": 21,
   "id": "668c5a7a-7360-492a-8224-0195a7436d91",
   "metadata": {},
   "outputs": [
    {
     "name": "stdout",
     "output_type": "stream",
     "text": [
      "[-0.01978427 -0.01856293 -0.02276677 -0.02275795 -0.02407826]\n",
      "-0.02159003464453672\n"
     ]
    }
   ],
   "source": [
    "tuned_values = cross_val_score(tuned_model, X_train, y_train, scoring='neg_mean_squared_log_error', cv=cv)\n",
    "print(tuned_values)\n",
    "print(tuned_values.mean())"
   ]
  },
  {
   "cell_type": "markdown",
   "id": "2089b1b9-d07e-4eea-8d10-127573edbeb9",
   "metadata": {},
   "source": [
    "He incluído los valores por defecto para asegurar que no empeore."
   ]
  },
  {
   "cell_type": "markdown",
   "id": "a763f3ac-6cd9-48ed-8d90-59381a0c9f80",
   "metadata": {
    "jupyter": {
     "outputs_hidden": false
    }
   },
   "source": [
    "Ahora vamos a entrenar con todo el conjunto de entrenamiento"
   ]
  },
  {
   "cell_type": "code",
   "execution_count": 22,
   "id": "ba3e0482-8b2e-407d-92a7-0dabb84139b4",
   "metadata": {
    "jupyter": {
     "outputs_hidden": false
    }
   },
   "outputs": [
    {
     "data": {
      "text/html": [
       "<style>#sk-container-id-2 {color: black;}#sk-container-id-2 pre{padding: 0;}#sk-container-id-2 div.sk-toggleable {background-color: white;}#sk-container-id-2 label.sk-toggleable__label {cursor: pointer;display: block;width: 100%;margin-bottom: 0;padding: 0.3em;box-sizing: border-box;text-align: center;}#sk-container-id-2 label.sk-toggleable__label-arrow:before {content: \"▸\";float: left;margin-right: 0.25em;color: #696969;}#sk-container-id-2 label.sk-toggleable__label-arrow:hover:before {color: black;}#sk-container-id-2 div.sk-estimator:hover label.sk-toggleable__label-arrow:before {color: black;}#sk-container-id-2 div.sk-toggleable__content {max-height: 0;max-width: 0;overflow: hidden;text-align: left;background-color: #f0f8ff;}#sk-container-id-2 div.sk-toggleable__content pre {margin: 0.2em;color: black;border-radius: 0.25em;background-color: #f0f8ff;}#sk-container-id-2 input.sk-toggleable__control:checked~div.sk-toggleable__content {max-height: 200px;max-width: 100%;overflow: auto;}#sk-container-id-2 input.sk-toggleable__control:checked~label.sk-toggleable__label-arrow:before {content: \"▾\";}#sk-container-id-2 div.sk-estimator input.sk-toggleable__control:checked~label.sk-toggleable__label {background-color: #d4ebff;}#sk-container-id-2 div.sk-label input.sk-toggleable__control:checked~label.sk-toggleable__label {background-color: #d4ebff;}#sk-container-id-2 input.sk-hidden--visually {border: 0;clip: rect(1px 1px 1px 1px);clip: rect(1px, 1px, 1px, 1px);height: 1px;margin: -1px;overflow: hidden;padding: 0;position: absolute;width: 1px;}#sk-container-id-2 div.sk-estimator {font-family: monospace;background-color: #f0f8ff;border: 1px dotted black;border-radius: 0.25em;box-sizing: border-box;margin-bottom: 0.5em;}#sk-container-id-2 div.sk-estimator:hover {background-color: #d4ebff;}#sk-container-id-2 div.sk-parallel-item::after {content: \"\";width: 100%;border-bottom: 1px solid gray;flex-grow: 1;}#sk-container-id-2 div.sk-label:hover label.sk-toggleable__label {background-color: #d4ebff;}#sk-container-id-2 div.sk-serial::before {content: \"\";position: absolute;border-left: 1px solid gray;box-sizing: border-box;top: 0;bottom: 0;left: 50%;z-index: 0;}#sk-container-id-2 div.sk-serial {display: flex;flex-direction: column;align-items: center;background-color: white;padding-right: 0.2em;padding-left: 0.2em;position: relative;}#sk-container-id-2 div.sk-item {position: relative;z-index: 1;}#sk-container-id-2 div.sk-parallel {display: flex;align-items: stretch;justify-content: center;background-color: white;position: relative;}#sk-container-id-2 div.sk-item::before, #sk-container-id-2 div.sk-parallel-item::before {content: \"\";position: absolute;border-left: 1px solid gray;box-sizing: border-box;top: 0;bottom: 0;left: 50%;z-index: -1;}#sk-container-id-2 div.sk-parallel-item {display: flex;flex-direction: column;z-index: 1;position: relative;background-color: white;}#sk-container-id-2 div.sk-parallel-item:first-child::after {align-self: flex-end;width: 50%;}#sk-container-id-2 div.sk-parallel-item:last-child::after {align-self: flex-start;width: 50%;}#sk-container-id-2 div.sk-parallel-item:only-child::after {width: 0;}#sk-container-id-2 div.sk-dashed-wrapped {border: 1px dashed gray;margin: 0 0.4em 0.5em 0.4em;box-sizing: border-box;padding-bottom: 0.4em;background-color: white;}#sk-container-id-2 div.sk-label label {font-family: monospace;font-weight: bold;display: inline-block;line-height: 1.2em;}#sk-container-id-2 div.sk-label-container {text-align: center;}#sk-container-id-2 div.sk-container {/* jupyter's `normalize.less` sets `[hidden] { display: none; }` but bootstrap.min.css set `[hidden] { display: none !important; }` so we also need the `!important` here to be able to override the default hidden behavior on the sphinx rendered scikit-learn.org. See: https://github.com/scikit-learn/scikit-learn/issues/21755 */display: inline-block !important;position: relative;}#sk-container-id-2 div.sk-text-repr-fallback {display: none;}</style><div id=\"sk-container-id-2\" class=\"sk-top-container\"><div class=\"sk-text-repr-fallback\"><pre>GridSearchCV(estimator=RandomForestRegressor(max_depth=10),\n",
       "             param_grid={&#x27;criterion&#x27;: [&#x27;squared_error&#x27;],\n",
       "                         &#x27;max_depth&#x27;: [7, 10, 15]},\n",
       "             scoring=&#x27;neg_mean_squared_log_error&#x27;)</pre><b>In a Jupyter environment, please rerun this cell to show the HTML representation or trust the notebook. <br />On GitHub, the HTML representation is unable to render, please try loading this page with nbviewer.org.</b></div><div class=\"sk-container\" hidden><div class=\"sk-item sk-dashed-wrapped\"><div class=\"sk-label-container\"><div class=\"sk-label sk-toggleable\"><input class=\"sk-toggleable__control sk-hidden--visually\" id=\"sk-estimator-id-2\" type=\"checkbox\" ><label for=\"sk-estimator-id-2\" class=\"sk-toggleable__label sk-toggleable__label-arrow\">GridSearchCV</label><div class=\"sk-toggleable__content\"><pre>GridSearchCV(estimator=RandomForestRegressor(max_depth=10),\n",
       "             param_grid={&#x27;criterion&#x27;: [&#x27;squared_error&#x27;],\n",
       "                         &#x27;max_depth&#x27;: [7, 10, 15]},\n",
       "             scoring=&#x27;neg_mean_squared_log_error&#x27;)</pre></div></div></div><div class=\"sk-parallel\"><div class=\"sk-parallel-item\"><div class=\"sk-item\"><div class=\"sk-label-container\"><div class=\"sk-label sk-toggleable\"><input class=\"sk-toggleable__control sk-hidden--visually\" id=\"sk-estimator-id-3\" type=\"checkbox\" ><label for=\"sk-estimator-id-3\" class=\"sk-toggleable__label sk-toggleable__label-arrow\">estimator: RandomForestRegressor</label><div class=\"sk-toggleable__content\"><pre>RandomForestRegressor(max_depth=10)</pre></div></div></div><div class=\"sk-serial\"><div class=\"sk-item\"><div class=\"sk-estimator sk-toggleable\"><input class=\"sk-toggleable__control sk-hidden--visually\" id=\"sk-estimator-id-4\" type=\"checkbox\" ><label for=\"sk-estimator-id-4\" class=\"sk-toggleable__label sk-toggleable__label-arrow\">RandomForestRegressor</label><div class=\"sk-toggleable__content\"><pre>RandomForestRegressor(max_depth=10)</pre></div></div></div></div></div></div></div></div></div></div>"
      ],
      "text/plain": [
       "GridSearchCV(estimator=RandomForestRegressor(max_depth=10),\n",
       "             param_grid={'criterion': ['squared_error'],\n",
       "                         'max_depth': [7, 10, 15]},\n",
       "             scoring='neg_mean_squared_log_error')"
      ]
     },
     "execution_count": 22,
     "metadata": {},
     "output_type": "execute_result"
    }
   ],
   "source": [
    "tuned_model.fit(X_train, y_train)"
   ]
  },
  {
   "cell_type": "markdown",
   "id": "b4c899f6-7c1e-43aa-88a4-56a1c7cae634",
   "metadata": {},
   "source": [
    "Veamos los resultados obtenidos:"
   ]
  },
  {
   "cell_type": "code",
   "execution_count": 23,
   "id": "adb219ee-a5df-4c4f-8510-a1346ec13e65",
   "metadata": {},
   "outputs": [
    {
     "data": {
      "text/plain": [
       "{'criterion': 'squared_error', 'max_depth': 15}"
      ]
     },
     "execution_count": 23,
     "metadata": {},
     "output_type": "execute_result"
    }
   ],
   "source": [
    "tuned_model.best_params_"
   ]
  },
  {
   "cell_type": "code",
   "execution_count": 24,
   "id": "b3246ec5-8f29-4060-bfaf-20b828fcd218",
   "metadata": {},
   "outputs": [
    {
     "data": {
      "text/html": [
       "<style>#sk-container-id-3 {color: black;}#sk-container-id-3 pre{padding: 0;}#sk-container-id-3 div.sk-toggleable {background-color: white;}#sk-container-id-3 label.sk-toggleable__label {cursor: pointer;display: block;width: 100%;margin-bottom: 0;padding: 0.3em;box-sizing: border-box;text-align: center;}#sk-container-id-3 label.sk-toggleable__label-arrow:before {content: \"▸\";float: left;margin-right: 0.25em;color: #696969;}#sk-container-id-3 label.sk-toggleable__label-arrow:hover:before {color: black;}#sk-container-id-3 div.sk-estimator:hover label.sk-toggleable__label-arrow:before {color: black;}#sk-container-id-3 div.sk-toggleable__content {max-height: 0;max-width: 0;overflow: hidden;text-align: left;background-color: #f0f8ff;}#sk-container-id-3 div.sk-toggleable__content pre {margin: 0.2em;color: black;border-radius: 0.25em;background-color: #f0f8ff;}#sk-container-id-3 input.sk-toggleable__control:checked~div.sk-toggleable__content {max-height: 200px;max-width: 100%;overflow: auto;}#sk-container-id-3 input.sk-toggleable__control:checked~label.sk-toggleable__label-arrow:before {content: \"▾\";}#sk-container-id-3 div.sk-estimator input.sk-toggleable__control:checked~label.sk-toggleable__label {background-color: #d4ebff;}#sk-container-id-3 div.sk-label input.sk-toggleable__control:checked~label.sk-toggleable__label {background-color: #d4ebff;}#sk-container-id-3 input.sk-hidden--visually {border: 0;clip: rect(1px 1px 1px 1px);clip: rect(1px, 1px, 1px, 1px);height: 1px;margin: -1px;overflow: hidden;padding: 0;position: absolute;width: 1px;}#sk-container-id-3 div.sk-estimator {font-family: monospace;background-color: #f0f8ff;border: 1px dotted black;border-radius: 0.25em;box-sizing: border-box;margin-bottom: 0.5em;}#sk-container-id-3 div.sk-estimator:hover {background-color: #d4ebff;}#sk-container-id-3 div.sk-parallel-item::after {content: \"\";width: 100%;border-bottom: 1px solid gray;flex-grow: 1;}#sk-container-id-3 div.sk-label:hover label.sk-toggleable__label {background-color: #d4ebff;}#sk-container-id-3 div.sk-serial::before {content: \"\";position: absolute;border-left: 1px solid gray;box-sizing: border-box;top: 0;bottom: 0;left: 50%;z-index: 0;}#sk-container-id-3 div.sk-serial {display: flex;flex-direction: column;align-items: center;background-color: white;padding-right: 0.2em;padding-left: 0.2em;position: relative;}#sk-container-id-3 div.sk-item {position: relative;z-index: 1;}#sk-container-id-3 div.sk-parallel {display: flex;align-items: stretch;justify-content: center;background-color: white;position: relative;}#sk-container-id-3 div.sk-item::before, #sk-container-id-3 div.sk-parallel-item::before {content: \"\";position: absolute;border-left: 1px solid gray;box-sizing: border-box;top: 0;bottom: 0;left: 50%;z-index: -1;}#sk-container-id-3 div.sk-parallel-item {display: flex;flex-direction: column;z-index: 1;position: relative;background-color: white;}#sk-container-id-3 div.sk-parallel-item:first-child::after {align-self: flex-end;width: 50%;}#sk-container-id-3 div.sk-parallel-item:last-child::after {align-self: flex-start;width: 50%;}#sk-container-id-3 div.sk-parallel-item:only-child::after {width: 0;}#sk-container-id-3 div.sk-dashed-wrapped {border: 1px dashed gray;margin: 0 0.4em 0.5em 0.4em;box-sizing: border-box;padding-bottom: 0.4em;background-color: white;}#sk-container-id-3 div.sk-label label {font-family: monospace;font-weight: bold;display: inline-block;line-height: 1.2em;}#sk-container-id-3 div.sk-label-container {text-align: center;}#sk-container-id-3 div.sk-container {/* jupyter's `normalize.less` sets `[hidden] { display: none; }` but bootstrap.min.css set `[hidden] { display: none !important; }` so we also need the `!important` here to be able to override the default hidden behavior on the sphinx rendered scikit-learn.org. See: https://github.com/scikit-learn/scikit-learn/issues/21755 */display: inline-block !important;position: relative;}#sk-container-id-3 div.sk-text-repr-fallback {display: none;}</style><div id=\"sk-container-id-3\" class=\"sk-top-container\"><div class=\"sk-text-repr-fallback\"><pre>RandomForestRegressor(max_depth=15)</pre><b>In a Jupyter environment, please rerun this cell to show the HTML representation or trust the notebook. <br />On GitHub, the HTML representation is unable to render, please try loading this page with nbviewer.org.</b></div><div class=\"sk-container\" hidden><div class=\"sk-item\"><div class=\"sk-estimator sk-toggleable\"><input class=\"sk-toggleable__control sk-hidden--visually\" id=\"sk-estimator-id-5\" type=\"checkbox\" checked><label for=\"sk-estimator-id-5\" class=\"sk-toggleable__label sk-toggleable__label-arrow\">RandomForestRegressor</label><div class=\"sk-toggleable__content\"><pre>RandomForestRegressor(max_depth=15)</pre></div></div></div></div></div>"
      ],
      "text/plain": [
       "RandomForestRegressor(max_depth=15)"
      ]
     },
     "execution_count": 24,
     "metadata": {},
     "output_type": "execute_result"
    }
   ],
   "source": [
    "tuned_model.best_estimator_"
   ]
  },
  {
   "cell_type": "markdown",
   "id": "7ee861f6-156d-4bde-8d14-06c467afc15b",
   "metadata": {},
   "source": [
    "Vamos a medir la importancia del modelo."
   ]
  },
  {
   "cell_type": "markdown",
   "id": "9a2a6c31-58c6-4253-bcca-f1c47db23b98",
   "metadata": {
    "jupyter": {
     "outputs_hidden": false
    }
   },
   "source": [
    "Ahora predigo."
   ]
  },
  {
   "cell_type": "code",
   "execution_count": 25,
   "id": "85eea74d-b5f6-4cb9-8a0f-fe82f7bf6e97",
   "metadata": {
    "jupyter": {
     "outputs_hidden": false
    }
   },
   "outputs": [],
   "source": [
    "pred = tuned_model.predict(X_test)"
   ]
  },
  {
   "cell_type": "markdown",
   "id": "c20c9671-ff50-4e0a-b8c7-4d1cbe336275",
   "metadata": {},
   "source": [
    "Es lo mismo que predecir con el mejor modelo encontrado"
   ]
  },
  {
   "cell_type": "code",
   "execution_count": 26,
   "id": "4b1fe761-5119-40ce-9a5b-3eb041e8e9a4",
   "metadata": {},
   "outputs": [
    {
     "data": {
      "text/plain": [
       "True"
      ]
     },
     "execution_count": 26,
     "metadata": {},
     "output_type": "execute_result"
    }
   ],
   "source": [
    "pred2 = tuned_model.best_estimator_.predict(X_test)\n",
    "np.all(pred==pred2)"
   ]
  },
  {
   "cell_type": "code",
   "execution_count": 29,
   "id": "1ae66de9",
   "metadata": {},
   "outputs": [
    {
     "name": "stdout",
     "output_type": "stream",
     "text": [
      "[-0.02004626 -0.01923601 -0.02141666 -0.02317475 -0.02499025]\n",
      "-0.021772786370284535\n"
     ]
    }
   ],
   "source": [
    "tuned_values = cross_val_score(tuned_model, X_train, y_train, scoring='neg_mean_squared_log_error', cv=cv)\n",
    "print(tuned_values)\n",
    "print(tuned_values.mean())"
   ]
  },
  {
   "cell_type": "code",
   "execution_count": 27,
   "id": "d81109fd",
   "metadata": {},
   "outputs": [],
   "source": [
    "salida = pd.DataFrame({'Id': test_ids, 'SalePrice': pred})"
   ]
  },
  {
   "cell_type": "code",
   "execution_count": 28,
   "id": "915299e0",
   "metadata": {},
   "outputs": [],
   "source": [
    "salida.to_csv(\"Prueba2.csv\", index=False)"
   ]
  },
  {
   "cell_type": "code",
   "execution_count": null,
   "id": "720f4e6d",
   "metadata": {},
   "outputs": [],
   "source": []
  },
  {
   "cell_type": "code",
   "execution_count": null,
   "id": "d9eab66f",
   "metadata": {},
   "outputs": [],
   "source": []
  }
 ],
 "metadata": {
  "kernelspec": {
   "display_name": "Python 3 (ipykernel)",
   "language": "python",
   "name": "python3"
  },
  "language_info": {
   "codemirror_mode": {
    "name": "ipython",
    "version": 3
   },
   "file_extension": ".py",
   "mimetype": "text/x-python",
   "name": "python",
   "nbconvert_exporter": "python",
   "pygments_lexer": "ipython3",
   "version": "3.9.7"
  },
  "name": "Ejemplo_procesamiento_competicion.ipynb"
 },
 "nbformat": 4,
 "nbformat_minor": 5
}
